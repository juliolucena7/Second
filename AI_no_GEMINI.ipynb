{
  "nbformat": 4,
  "nbformat_minor": 0,
  "metadata": {
    "colab": {
      "provenance": [],
      "authorship_tag": "ABX9TyPGhRDLWgzzXE5/2nKsMA0L",
      "include_colab_link": true
    },
    "kernelspec": {
      "name": "python3",
      "display_name": "Python 3"
    },
    "language_info": {
      "name": "python"
    }
  },
  "cells": [
    {
      "cell_type": "markdown",
      "metadata": {
        "id": "view-in-github",
        "colab_type": "text"
      },
      "source": [
        "<a href=\"https://colab.research.google.com/github/juliolucena7/Second/blob/main/AI_no_GEMINI.ipynb\" target=\"_parent\"><img src=\"https://colab.research.google.com/assets/colab-badge.svg\" alt=\"Open In Colab\"/></a>"
      ]
    },
    {
      "cell_type": "code",
      "execution_count": null,
      "metadata": {
        "id": "LeeK8o9hYqsC"
      },
      "outputs": [],
      "source": []
    },
    {
      "cell_type": "markdown",
      "source": [
        "Intalar o sdk"
      ],
      "metadata": {
        "id": "Lo-J5bo4ZBOl"
      }
    },
    {
      "cell_type": "code",
      "execution_count": null,
      "metadata": {
        "id": "J6Pd9SFJ1yVi"
      },
      "outputs": [],
      "source": [
        "!pip install -q -U google-generativeai"
      ]
    },
    {
      "cell_type": "markdown",
      "source": [
        "chave api"
      ],
      "metadata": {
        "id": "nCIsfSqpfJyn"
      }
    },
    {
      "cell_type": "code",
      "source": [
        "# Import the Python SDK\n",
        "import google.generativeai as genai\n",
        "# Used to securely store your API key\n",
        "from google.colab import userdata\n",
        "GOOGLE_API_KEY= userdata.get('SECRET_KEY')\n",
        "genai.configure(api_key=GOOGLE_API_KEY)"
      ],
      "metadata": {
        "id": "zscHMAehfM2y"
      },
      "execution_count": null,
      "outputs": []
    },
    {
      "cell_type": "markdown",
      "source": [
        "lista de modelosx"
      ],
      "metadata": {
        "id": "_NhIfJg5fpIg"
      }
    },
    {
      "cell_type": "code",
      "source": [
        "for m in genai.list_models():\n",
        "  if 'generateContent' in m.supported_generation_methods:\n",
        "    print(m.name)"
      ],
      "metadata": {
        "colab": {
          "base_uri": "https://localhost:8080/",
          "height": 139
        },
        "id": "C3auMnVAfvIs",
        "outputId": "e710891e-ab97-40ef-f03a-1bdae30d4686"
      },
      "execution_count": null,
      "outputs": [
        {
          "output_type": "stream",
          "name": "stdout",
          "text": [
            "models/gemini-1.0-pro\n",
            "models/gemini-1.0-pro-001\n",
            "models/gemini-1.0-pro-latest\n",
            "models/gemini-1.0-pro-vision-latest\n",
            "models/gemini-1.5-pro-latest\n",
            "models/gemini-pro\n",
            "models/gemini-pro-vision\n"
          ]
        }
      ]
    },
    {
      "cell_type": "markdown",
      "source": [],
      "metadata": {
        "id": "gghiuu5ImzpC"
      }
    },
    {
      "cell_type": "markdown",
      "source": [
        "Parametros"
      ],
      "metadata": {
        "id": "N8-7ipbxkY7I"
      }
    },
    {
      "cell_type": "code",
      "source": [
        "generation_config={\n",
        "    \"candidate_count\":1,\n",
        "    \"temperature\":0.5,\n",
        "}"
      ],
      "metadata": {
        "id": "86YC_0Gkj7Wz"
      },
      "execution_count": null,
      "outputs": []
    },
    {
      "cell_type": "markdown",
      "source": [
        "Segurança"
      ],
      "metadata": {
        "id": "SW6JBdvkkv-S"
      }
    },
    {
      "cell_type": "code",
      "source": [
        "safety_settings={\n",
        "    \"HARASSMENT\":\"BLOCK_NONE\",\n",
        "    \"HATE\":\"BLOCK_NONE\",\n",
        "    \"SEXUAL\":\"BLOCK_NONE\",\n",
        "    \"DANGEROUS\":\"BLOCK_NONE\"\n",
        "}"
      ],
      "metadata": {
        "id": "K2HNS1SLkyhJ"
      },
      "execution_count": null,
      "outputs": []
    },
    {
      "cell_type": "markdown",
      "source": [
        "Escolha do modelo"
      ],
      "metadata": {
        "id": "yDsDnDquiBbV"
      }
    },
    {
      "cell_type": "code",
      "source": [
        "model = genai.GenerativeModel('gemini-1.0-pro',\n",
        "                              generation_config=generation_config,\n",
        "                              safety_settings=safety_settings)"
      ],
      "metadata": {
        "id": "Ar3BhQ3miETT"
      },
      "execution_count": null,
      "outputs": []
    },
    {
      "cell_type": "code",
      "source": [
        "response = model.generate_content(\"melhor jogador de tenis da história.\")\n",
        "print(response.text)"
      ],
      "metadata": {
        "colab": {
          "base_uri": "https://localhost:8080/",
          "height": 263
        },
        "id": "8cXOdVMXnatR",
        "outputId": "71150da8-e986-4324-e0ff-144e3fe5e7ed"
      },
      "execution_count": null,
      "outputs": [
        {
          "output_type": "stream",
          "name": "stdout",
          "text": [
            "**Masculino:**\n",
            "\n",
            "* **Novak Djokovic** (Sérvia)\n",
            "* **Rafael Nadal** (Espanha)\n",
            "* **Roger Federer** (Suíça)\n",
            "\n",
            "**Feminino:**\n",
            "\n",
            "* **Serena Williams** (Estados Unidos)\n",
            "* **Margaret Court** (Austrália)\n",
            "* **Steffi Graf** (Alemanha)\n",
            "\n",
            "A classificação exata pode variar dependendo dos critérios usados, como títulos de Grand Slam, semanas como número 1 do mundo e confrontos diretos. No entanto, os jogadores listados acima são amplamente considerados os maiores tenistas de todos os tempos em seus respectivos gêneros.\n"
          ]
        }
      ]
    },
    {
      "cell_type": "code",
      "source": [
        "chat = model.start_chat(history=[])"
      ],
      "metadata": {
        "id": "6ryNltSppRyg"
      },
      "execution_count": null,
      "outputs": []
    },
    {
      "cell_type": "code",
      "source": [
        "prompt= input(\"Esperando prompt: \")\n",
        "\n",
        "while prompt !=\"fim\":\n",
        "  response = chat.send_message(prompt)\n",
        "  print (\"resposta: \", response.text, \"\\n\")\n",
        "  prompt= input(\"Esperando prompt: \")"
      ],
      "metadata": {
        "colab": {
          "base_uri": "https://localhost:8080/",
          "height": 468
        },
        "id": "HlyX9ahgpx7k",
        "outputId": "aa688d25-91f6-4ed2-aa67-80300fde399a"
      },
      "execution_count": null,
      "outputs": [
        {
          "name": "stdout",
          "output_type": "stream",
          "text": [
            "Esperando prompt: melhor jjogador de lol da historia\n",
            "resposta:  **Faker (Lee Sang-hyeok)**\n",
            "\n",
            "* **Motivos:**\n",
            "    * Venceu 3 Campeonatos Mundiais de League of Legends (2013, 2015, 2016)\n",
            "    * Venceu 9 títulos da Liga dos Campeões da Coreia (LCK)\n",
            "    * Mais de 2.000 vitórias em partidas profissionais\n",
            "    * Conhecido por sua habilidade mecânica excepcional, tomada de decisão e domínio de vários campeões\n",
            "    * Considerado o \"Deus do LoL\" e amplamente reconhecido como o maior jogador de todos os tempos\n",
            "\n",
            "**Outros candidatos notáveis:**\n",
            "\n",
            "* **Uzi (Jian Zihao)**\n",
            "    * Conhecido por sua habilidade excepcional como atirador\n",
            "    * Venceu o Campeonato Mundial de 2018\n",
            "* **Rookie (Song Eui-jin)**\n",
            "    * Jogador coreano que se destacou na LPL (China)\n",
            "    * Conhecido por seu estilo de jogo agressivo e domínio de campeões de meio\n",
            "* **TheShy (Kang Seung-lok)**\n",
            "    * Jogador top lane conhecido por seu jogo agressivo e habilidade mecânica\n",
            "    * Venceu o Campeonato Mundial de 2018\n",
            "* **Caps (Rasmus Winther)**\n",
            "    * Jogador europeu que se destacou em várias posições\n",
            "    * Conhecido por sua flexibilidade e tomada de decisão inteligente \n",
            "\n",
            "Esperando prompt: fim\n"
          ]
        }
      ]
    },
    {
      "cell_type": "code",
      "source": [
        "#Melhorando a visualização\n",
        "#Código disponível em https://ai.google.dev/tutorials/python_quickstart#import_packages\n",
        "import textwrap\n",
        "from IPython.display import display\n",
        "from IPython.display import Markdown\n",
        "\n",
        "def to_markdown(text):\n",
        "  text = text.replace('•', '  *')\n",
        "  return Markdown(textwrap.indent(text, '> ', predicate=lambda _: True))\n",
        "\n",
        "#Imprimindo o histórico\n",
        "for message in chat.history:\n",
        "  display(to_markdown(f'**{message.role}**: {message.parts[0].text}'))\n",
        "  print('-------------------------------------------')"
      ],
      "metadata": {
        "id": "oiox5-0ltG5F"
      },
      "execution_count": null,
      "outputs": []
    }
  ]
}